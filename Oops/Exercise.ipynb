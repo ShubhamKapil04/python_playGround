{
 "cells": [
  {
   "cell_type": "code",
   "execution_count": 17,
   "id": "a5ffca64",
   "metadata": {},
   "outputs": [],
   "source": [
    "class Cylinder:\n",
    "    \n",
    "    pi = 3.14\n",
    "    \n",
    "    def __init__(self, height, radius):\n",
    "        self.height = height\n",
    "        self.radius = radius\n",
    "        \n",
    "    def volume(self):\n",
    "        return Cylinder.pi * (self.radius ** 2) * self.height\n",
    "    \n",
    "    def surface_area(self):\n",
    "        return 2 * Cylinder.pi * self.radius * self.height + 2 * Cylinder.pi * (self.radius ** 2)\n",
    "        "
   ]
  },
  {
   "cell_type": "code",
   "execution_count": 18,
   "id": "aa8bba5e",
   "metadata": {},
   "outputs": [],
   "source": [
    "c = Cylinder(2, 3)"
   ]
  },
  {
   "cell_type": "code",
   "execution_count": 19,
   "id": "a229a499",
   "metadata": {},
   "outputs": [
    {
     "data": {
      "text/plain": [
       "56.52"
      ]
     },
     "execution_count": 19,
     "metadata": {},
     "output_type": "execute_result"
    }
   ],
   "source": [
    "c.volume()"
   ]
  },
  {
   "cell_type": "code",
   "execution_count": 20,
   "id": "de40f69d",
   "metadata": {},
   "outputs": [
    {
     "data": {
      "text/plain": [
       "94.2"
      ]
     },
     "execution_count": 20,
     "metadata": {},
     "output_type": "execute_result"
    }
   ],
   "source": [
    "c.surface_area()"
   ]
  },
  {
   "cell_type": "code",
   "execution_count": null,
   "id": "1e7eb0a0",
   "metadata": {},
   "outputs": [],
   "source": []
  },
  {
   "cell_type": "code",
   "execution_count": null,
   "id": "58b99daa",
   "metadata": {},
   "outputs": [],
   "source": []
  },
  {
   "cell_type": "code",
   "execution_count": null,
   "id": "198f3339",
   "metadata": {},
   "outputs": [],
   "source": []
  },
  {
   "cell_type": "code",
   "execution_count": null,
   "id": "31cebd84",
   "metadata": {},
   "outputs": [],
   "source": []
  },
  {
   "cell_type": "code",
   "execution_count": 44,
   "id": "44570581",
   "metadata": {},
   "outputs": [],
   "source": [
    "class Line:\n",
    "    \n",
    "    def __init__(self, coor1, coor2):\n",
    "        self.coor1 = coor1\n",
    "        self.coor2 = coor2\n",
    "        \n",
    "        \n",
    "    def distance(self):\n",
    "        x1 = self.coor1[0]\n",
    "        y1 = self.coor1[1]\n",
    "        \n",
    "        x2 = self.coor2[0]\n",
    "        y2 = self.coor2[1]\n",
    "        return ((x2 - x1) ** 2 + (y2 - y1) ** 2) ** 0.5\n",
    "    \n",
    "    \n",
    "    def slope(self):\n",
    "        x1, y1 = self.coor1\n",
    "        x2, y2 = self.coor2\n",
    "        \n",
    "        return (y2 - y1) / (x2- x1)\n",
    "        "
   ]
  },
  {
   "cell_type": "code",
   "execution_count": 45,
   "id": "5244d319",
   "metadata": {},
   "outputs": [],
   "source": [
    "# Example OUTPUT\n",
    "\n",
    "corrdinate1 = (3, 2)\n",
    "corrdinate2 = (8, 10) \n",
    "\n",
    "l1 = Line(corrdinate1, corrdinate2)"
   ]
  },
  {
   "cell_type": "code",
   "execution_count": 46,
   "id": "98510470",
   "metadata": {},
   "outputs": [
    {
     "data": {
      "text/plain": [
       "9.433981132056603"
      ]
     },
     "execution_count": 46,
     "metadata": {},
     "output_type": "execute_result"
    }
   ],
   "source": [
    "l1.distance()"
   ]
  },
  {
   "cell_type": "code",
   "execution_count": 47,
   "id": "08ff7912",
   "metadata": {},
   "outputs": [
    {
     "data": {
      "text/plain": [
       "1.6"
      ]
     },
     "execution_count": 47,
     "metadata": {},
     "output_type": "execute_result"
    }
   ],
   "source": [
    "l1.slope()"
   ]
  },
  {
   "cell_type": "code",
   "execution_count": null,
   "id": "cf1907f6",
   "metadata": {},
   "outputs": [],
   "source": []
  },
  {
   "cell_type": "code",
   "execution_count": null,
   "id": "17f66258",
   "metadata": {},
   "outputs": [],
   "source": []
  },
  {
   "cell_type": "code",
   "execution_count": null,
   "id": "890b1cf8",
   "metadata": {},
   "outputs": [],
   "source": []
  },
  {
   "cell_type": "code",
   "execution_count": null,
   "id": "0eb3bf79",
   "metadata": {},
   "outputs": [],
   "source": []
  },
  {
   "cell_type": "code",
   "execution_count": null,
   "id": "be64c9fd",
   "metadata": {},
   "outputs": [],
   "source": []
  },
  {
   "cell_type": "code",
   "execution_count": 84,
   "id": "b86a6024",
   "metadata": {},
   "outputs": [],
   "source": [
    "class Account:\n",
    "    \n",
    "    balance = 0\n",
    "    \n",
    "    def __init__(self, owner, amount):\n",
    "        self.owner = owner\n",
    "        self.amount = amount\n",
    "        Account.balance += amount\n",
    "    \n",
    "    def deposit(self, amount):\n",
    "        Account.balance += amount\n",
    "        print ('The money {} has been deposit to the account'.format(amount))\n",
    "    \n",
    "    def withdraw(self, amount):\n",
    "        if amount > Account.balance:\n",
    "            print(f'The amount is unsifficent')\n",
    "        else:\n",
    "            Account.balance -= amount\n",
    "            print('The Amount {} has been deducted from your Account'.format(amount))\n",
    "            \n",
    "    def __str__(self):\n",
    "        return f\"Account Holder = {self.owner} \\nBalance = {Account.balance}\""
   ]
  },
  {
   "cell_type": "code",
   "execution_count": 85,
   "id": "88e2afd7",
   "metadata": {},
   "outputs": [],
   "source": [
    "ritisha = Account(owner = 'Ritisha', amount = 500)"
   ]
  },
  {
   "cell_type": "code",
   "execution_count": 86,
   "id": "d84bceae",
   "metadata": {},
   "outputs": [
    {
     "name": "stdout",
     "output_type": "stream",
     "text": [
      "The money 1000 has been deposit to the account\n"
     ]
    }
   ],
   "source": [
    "ritisha.deposit(1000)"
   ]
  },
  {
   "cell_type": "code",
   "execution_count": 87,
   "id": "e1eea59c",
   "metadata": {},
   "outputs": [
    {
     "name": "stdout",
     "output_type": "stream",
     "text": [
      "The Amount 500 has been deducted from your Account\n"
     ]
    }
   ],
   "source": [
    "ritisha.withdraw(500)"
   ]
  },
  {
   "cell_type": "code",
   "execution_count": 88,
   "id": "dd53476f",
   "metadata": {},
   "outputs": [
    {
     "data": {
      "text/plain": [
       "1000"
      ]
     },
     "execution_count": 88,
     "metadata": {},
     "output_type": "execute_result"
    }
   ],
   "source": [
    "ritisha.balance"
   ]
  },
  {
   "cell_type": "code",
   "execution_count": 89,
   "id": "4f83f5bb",
   "metadata": {},
   "outputs": [
    {
     "name": "stdout",
     "output_type": "stream",
     "text": [
      "The amount is unsifficent\n"
     ]
    }
   ],
   "source": [
    "ritisha.withdraw(1200)"
   ]
  },
  {
   "cell_type": "code",
   "execution_count": 90,
   "id": "e249a4d9",
   "metadata": {},
   "outputs": [
    {
     "data": {
      "text/plain": [
       "'Ritisha'"
      ]
     },
     "execution_count": 90,
     "metadata": {},
     "output_type": "execute_result"
    }
   ],
   "source": [
    "ritisha.owner"
   ]
  },
  {
   "cell_type": "code",
   "execution_count": 91,
   "id": "09a22fab",
   "metadata": {},
   "outputs": [
    {
     "name": "stdout",
     "output_type": "stream",
     "text": [
      "Account Holder = Ritisha \n",
      "Balance = 1000\n"
     ]
    }
   ],
   "source": [
    "print(ritisha)"
   ]
  },
  {
   "cell_type": "code",
   "execution_count": null,
   "id": "f9b762eb",
   "metadata": {},
   "outputs": [],
   "source": []
  }
 ],
 "metadata": {
  "kernelspec": {
   "display_name": "Python 3 (ipykernel)",
   "language": "python",
   "name": "python3"
  },
  "language_info": {
   "codemirror_mode": {
    "name": "ipython",
    "version": 3
   },
   "file_extension": ".py",
   "mimetype": "text/x-python",
   "name": "python",
   "nbconvert_exporter": "python",
   "pygments_lexer": "ipython3",
   "version": "3.10.9"
  }
 },
 "nbformat": 4,
 "nbformat_minor": 5
}
