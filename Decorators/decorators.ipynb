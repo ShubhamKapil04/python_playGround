{
 "cells": [
  {
   "cell_type": "code",
   "execution_count": 23,
   "id": "4b910f61",
   "metadata": {},
   "outputs": [],
   "source": [
    "def hello(name = 'Jeos'):\n",
    "    print(\"Hello Function is running\")\n",
    "    \n",
    "    def greeting():\n",
    "        return '\\t This greeting() function is inside the hello function'\n",
    "    \n",
    "    def welcome():\n",
    "        return '\\t This welcome() funtion is inside the hello function'\n",
    "    \n",
    "    # These function are inside the hello function\n",
    "    # So we cann't excess them outside the function\n",
    "    # So that we have to call them from inside of the main function\n",
    "    \n",
    "    print(\"I'm going to return the function\")\n",
    "    \n",
    "    if name == 'Jeos':\n",
    "        return greeting\n",
    "    else:\n",
    "        return welcome\n",
    "    \n",
    "    print(greeting())\n",
    "    print(welcome())"
   ]
  },
  {
   "cell_type": "code",
   "execution_count": 24,
   "id": "fc5db3eb",
   "metadata": {},
   "outputs": [
    {
     "name": "stdout",
     "output_type": "stream",
     "text": [
      "Hello Function is running\n",
      "I'm going to return the function\n"
     ]
    },
    {
     "data": {
      "text/plain": [
       "<function __main__.hello.<locals>.greeting()>"
      ]
     },
     "execution_count": 24,
     "metadata": {},
     "output_type": "execute_result"
    }
   ],
   "source": [
    "hello()"
   ]
  },
  {
   "cell_type": "code",
   "execution_count": 25,
   "id": "5e8e4e3f",
   "metadata": {},
   "outputs": [
    {
     "name": "stdout",
     "output_type": "stream",
     "text": [
      "Hello Function is running\n",
      "I'm going to return the function\n"
     ]
    }
   ],
   "source": [
    "gettin_all_the_values = hello()"
   ]
  },
  {
   "cell_type": "code",
   "execution_count": 26,
   "id": "6b485173",
   "metadata": {},
   "outputs": [
    {
     "data": {
      "text/plain": [
       "<function __main__.hello.<locals>.greeting()>"
      ]
     },
     "execution_count": 26,
     "metadata": {},
     "output_type": "execute_result"
    }
   ],
   "source": [
    "gettin_all_the_values"
   ]
  },
  {
   "cell_type": "code",
   "execution_count": 28,
   "id": "3d0c9dcc",
   "metadata": {},
   "outputs": [
    {
     "name": "stdout",
     "output_type": "stream",
     "text": [
      "\t This greeting() function is inside the hello function\n"
     ]
    }
   ],
   "source": [
    "print(gettin_all_the_values())"
   ]
  },
  {
   "cell_type": "code",
   "execution_count": null,
   "id": "75bc53e8",
   "metadata": {},
   "outputs": [],
   "source": []
  },
  {
   "cell_type": "code",
   "execution_count": null,
   "id": "daa0a6b2",
   "metadata": {},
   "outputs": [],
   "source": []
  },
  {
   "cell_type": "code",
   "execution_count": 29,
   "id": "22fea50b",
   "metadata": {},
   "outputs": [],
   "source": [
    "def cool():\n",
    "    \n",
    "    def super_cool():\n",
    "        print(\"Hey !! I am supercool\")\n",
    "    \n",
    "    return super_cool"
   ]
  },
  {
   "cell_type": "code",
   "execution_count": 30,
   "id": "6822d072",
   "metadata": {},
   "outputs": [],
   "source": [
    "some_fun = cool()"
   ]
  },
  {
   "cell_type": "code",
   "execution_count": 31,
   "id": "8b861953",
   "metadata": {},
   "outputs": [
    {
     "data": {
      "text/plain": [
       "<function __main__.cool.<locals>.super_cool()>"
      ]
     },
     "execution_count": 31,
     "metadata": {},
     "output_type": "execute_result"
    }
   ],
   "source": [
    "some_fun"
   ]
  },
  {
   "cell_type": "code",
   "execution_count": 32,
   "id": "7fb2b7c5",
   "metadata": {},
   "outputs": [
    {
     "name": "stdout",
     "output_type": "stream",
     "text": [
      "Hey !! I am supercool\n"
     ]
    }
   ],
   "source": [
    "some_fun()"
   ]
  },
  {
   "cell_type": "code",
   "execution_count": null,
   "id": "ec6cf284",
   "metadata": {},
   "outputs": [],
   "source": []
  },
  {
   "cell_type": "code",
   "execution_count": null,
   "id": "8dad493f",
   "metadata": {},
   "outputs": [],
   "source": []
  },
  {
   "cell_type": "code",
   "execution_count": null,
   "id": "52847dba",
   "metadata": {},
   "outputs": [],
   "source": []
  },
  {
   "cell_type": "code",
   "execution_count": 7,
   "id": "db614e6d",
   "metadata": {},
   "outputs": [],
   "source": [
    "def hello():\n",
    "    return \"Hii Jose!\""
   ]
  },
  {
   "cell_type": "code",
   "execution_count": 8,
   "id": "b21c2651",
   "metadata": {},
   "outputs": [],
   "source": [
    "def other(some_other_fun):\n",
    "    print(\"Other code runs here!!\")\n",
    "    print(some_other_fun)"
   ]
  },
  {
   "cell_type": "code",
   "execution_count": 9,
   "id": "2641bf45",
   "metadata": {},
   "outputs": [
    {
     "data": {
      "text/plain": [
       "<function __main__.hello()>"
      ]
     },
     "execution_count": 9,
     "metadata": {},
     "output_type": "execute_result"
    }
   ],
   "source": [
    "hello"
   ]
  },
  {
   "cell_type": "code",
   "execution_count": 10,
   "id": "24036f9e",
   "metadata": {},
   "outputs": [
    {
     "data": {
      "text/plain": [
       "'Hii Jose!'"
      ]
     },
     "execution_count": 10,
     "metadata": {},
     "output_type": "execute_result"
    }
   ],
   "source": [
    "hello()"
   ]
  },
  {
   "cell_type": "code",
   "execution_count": 11,
   "id": "ea42457f",
   "metadata": {},
   "outputs": [
    {
     "name": "stdout",
     "output_type": "stream",
     "text": [
      "Other code runs here!!\n",
      "Hii Jose!\n"
     ]
    }
   ],
   "source": [
    "other(hello())"
   ]
  },
  {
   "cell_type": "code",
   "execution_count": null,
   "id": "37110ad2",
   "metadata": {},
   "outputs": [],
   "source": []
  },
  {
   "cell_type": "code",
   "execution_count": null,
   "id": "1ecbe2c2",
   "metadata": {},
   "outputs": [],
   "source": []
  },
  {
   "cell_type": "code",
   "execution_count": null,
   "id": "c1273e28",
   "metadata": {},
   "outputs": [],
   "source": []
  },
  {
   "cell_type": "code",
   "execution_count": null,
   "id": "85adf047",
   "metadata": {},
   "outputs": [],
   "source": []
  },
  {
   "cell_type": "code",
   "execution_count": null,
   "id": "4b3e5ae0",
   "metadata": {},
   "outputs": [],
   "source": [
    "\n"
   ]
  },
  {
   "cell_type": "code",
   "execution_count": null,
   "id": "d2b95488",
   "metadata": {},
   "outputs": [],
   "source": []
  },
  {
   "cell_type": "code",
   "execution_count": 25,
   "id": "be91f9e9",
   "metadata": {},
   "outputs": [],
   "source": [
    "def new_decorator(original_fun):\n",
    "    \n",
    "    def wrap_func():\n",
    "        print(\"Some extra code, before the original function\")\n",
    "        \n",
    "        original_fun()\n",
    "        \n",
    "        print(\"Some extra code, after the original function\")\n",
    "        \n",
    "    return wrap_func"
   ]
  },
  {
   "cell_type": "code",
   "execution_count": 26,
   "id": "b9882be9",
   "metadata": {},
   "outputs": [],
   "source": [
    "def func_need_decorator():\n",
    "    print(\"I need to be decorated!!\")"
   ]
  },
  {
   "cell_type": "code",
   "execution_count": 27,
   "id": "a5548d2e",
   "metadata": {},
   "outputs": [
    {
     "name": "stdout",
     "output_type": "stream",
     "text": [
      "I need to be decorated!!\n"
     ]
    }
   ],
   "source": [
    "func_need_decorator()"
   ]
  },
  {
   "cell_type": "code",
   "execution_count": 28,
   "id": "f51ad18a",
   "metadata": {},
   "outputs": [],
   "source": [
    "# Without any syntax use\n",
    "decorated_fun = new_decorator(func_need_decorator)"
   ]
  },
  {
   "cell_type": "code",
   "execution_count": 34,
   "id": "ebfb87ba",
   "metadata": {},
   "outputs": [
    {
     "name": "stdout",
     "output_type": "stream",
     "text": [
      "Some extra code, before the original function\n",
      "I need to be decorated!!\n",
      "Some extra code, after the original function\n"
     ]
    }
   ],
   "source": [
    "decorated_fun()"
   ]
  },
  {
   "cell_type": "code",
   "execution_count": 38,
   "id": "05dab9c3",
   "metadata": {},
   "outputs": [],
   "source": [
    "# Now we will use the syntax of decorater\n",
    "@new_decorator\n",
    "def func_need_decorator():\n",
    "    print(\"I need to be decorated!!\")"
   ]
  },
  {
   "cell_type": "code",
   "execution_count": 40,
   "id": "31fc06a9",
   "metadata": {},
   "outputs": [
    {
     "name": "stdout",
     "output_type": "stream",
     "text": [
      "Some extra code, before the original function\n",
      "I need to be decorated!!\n",
      "Some extra code, after the original function\n"
     ]
    }
   ],
   "source": [
    "func_need_decorator()"
   ]
  },
  {
   "cell_type": "code",
   "execution_count": null,
   "id": "04712a2d",
   "metadata": {},
   "outputs": [],
   "source": []
  }
 ],
 "metadata": {
  "kernelspec": {
   "display_name": "Python 3 (ipykernel)",
   "language": "python",
   "name": "python3"
  },
  "language_info": {
   "codemirror_mode": {
    "name": "ipython",
    "version": 3
   },
   "file_extension": ".py",
   "mimetype": "text/x-python",
   "name": "python",
   "nbconvert_exporter": "python",
   "pygments_lexer": "ipython3",
   "version": "3.10.9"
  }
 },
 "nbformat": 4,
 "nbformat_minor": 5
}
