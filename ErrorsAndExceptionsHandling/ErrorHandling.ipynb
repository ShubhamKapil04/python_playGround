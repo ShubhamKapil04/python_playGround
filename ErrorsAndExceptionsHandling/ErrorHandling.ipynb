{
 "cells": [
  {
   "cell_type": "code",
   "execution_count": 1,
   "id": "ec5c0026",
   "metadata": {},
   "outputs": [],
   "source": [
    "def add(n1, n2):\n",
    "    print(n1 + n2)"
   ]
  },
  {
   "cell_type": "code",
   "execution_count": 2,
   "id": "26d68ffa",
   "metadata": {},
   "outputs": [
    {
     "name": "stdout",
     "output_type": "stream",
     "text": [
      "30\n"
     ]
    }
   ],
   "source": [
    "add(10, 20)"
   ]
  },
  {
   "cell_type": "code",
   "execution_count": 3,
   "id": "62cd629a",
   "metadata": {},
   "outputs": [],
   "source": [
    "# Creating the error\n",
    "number1 = 20"
   ]
  },
  {
   "cell_type": "code",
   "execution_count": 4,
   "id": "acd94517",
   "metadata": {},
   "outputs": [
    {
     "name": "stdout",
     "output_type": "stream",
     "text": [
      "Provide the number as input: 20\n"
     ]
    }
   ],
   "source": [
    "number2 = input(\"Provide the number as input: \")"
   ]
  },
  {
   "cell_type": "code",
   "execution_count": 5,
   "id": "0cf5a08e",
   "metadata": {},
   "outputs": [
    {
     "ename": "TypeError",
     "evalue": "unsupported operand type(s) for +: 'int' and 'str'",
     "output_type": "error",
     "traceback": [
      "\u001b[1;31m---------------------------------------------------------------------------\u001b[0m",
      "\u001b[1;31mTypeError\u001b[0m                                 Traceback (most recent call last)",
      "Cell \u001b[1;32mIn[5], line 1\u001b[0m\n\u001b[1;32m----> 1\u001b[0m \u001b[43madd\u001b[49m\u001b[43m(\u001b[49m\u001b[43mnumber1\u001b[49m\u001b[43m,\u001b[49m\u001b[43m \u001b[49m\u001b[43mnumber2\u001b[49m\u001b[43m)\u001b[49m\n",
      "Cell \u001b[1;32mIn[1], line 2\u001b[0m, in \u001b[0;36madd\u001b[1;34m(n1, n2)\u001b[0m\n\u001b[0;32m      1\u001b[0m \u001b[38;5;28;01mdef\u001b[39;00m \u001b[38;5;21madd\u001b[39m(n1, n2):\n\u001b[1;32m----> 2\u001b[0m     \u001b[38;5;28mprint\u001b[39m(\u001b[43mn1\u001b[49m\u001b[43m \u001b[49m\u001b[38;5;241;43m+\u001b[39;49m\u001b[43m \u001b[49m\u001b[43mn2\u001b[49m)\n",
      "\u001b[1;31mTypeError\u001b[0m: unsupported operand type(s) for +: 'int' and 'str'"
     ]
    }
   ],
   "source": [
    "# This says that the number1 is integer and number2 is string   \n",
    "add(number1, number2)"
   ]
  },
  {
   "cell_type": "code",
   "execution_count": 12,
   "id": "9445b163",
   "metadata": {},
   "outputs": [
    {
     "name": "stdout",
     "output_type": "stream",
     "text": [
      "Added Well!!\n",
      "20\n"
     ]
    }
   ],
   "source": [
    "try:\n",
    "    # want to Attempt this code\n",
    "    # MAy have an error \n",
    "    result = 10 + 10\n",
    "except:\n",
    "    print(\"Hay it's look like you are't adding correctly!\")\n",
    "else:\n",
    "    print(\"Added Well!!\")\n",
    "    print(result)"
   ]
  },
  {
   "cell_type": "code",
   "execution_count": null,
   "id": "8f632cb2",
   "metadata": {},
   "outputs": [],
   "source": []
  },
  {
   "cell_type": "code",
   "execution_count": null,
   "id": "08f48b95",
   "metadata": {},
   "outputs": [],
   "source": []
  },
  {
   "cell_type": "code",
   "execution_count": null,
   "id": "230323a7",
   "metadata": {},
   "outputs": [],
   "source": []
  },
  {
   "cell_type": "code",
   "execution_count": null,
   "id": "7bf21eec",
   "metadata": {},
   "outputs": [],
   "source": []
  },
  {
   "cell_type": "code",
   "execution_count": null,
   "id": "193a50ab",
   "metadata": {},
   "outputs": [],
   "source": []
  },
  {
   "cell_type": "code",
   "execution_count": 17,
   "id": "9af6706f",
   "metadata": {},
   "outputs": [
    {
     "name": "stdout",
     "output_type": "stream",
     "text": [
      "All other exception\n",
      "I always Run\n"
     ]
    }
   ],
   "source": [
    "try:\n",
    "    f = open('testfile', 'm')\n",
    "    f.write(\"Write a test line\")\n",
    "except TypeError:\n",
    "    print(\"There is some Type Error in the code\")\n",
    "except OSError:\n",
    "    print(\"There is some OS Error in the code\")\n",
    "except:\n",
    "    print(\"All other exception\")\n",
    "finally:\n",
    "    print(\"I always Run\")"
   ]
  },
  {
   "cell_type": "code",
   "execution_count": null,
   "id": "8d237629",
   "metadata": {},
   "outputs": [],
   "source": []
  },
  {
   "cell_type": "code",
   "execution_count": 24,
   "id": "c9ef31c3",
   "metadata": {},
   "outputs": [],
   "source": [
    "def ask_for_int():\n",
    "    \n",
    "    try:\n",
    "        result = int(input(\"Please provide the number: \"))\n",
    "    except:\n",
    "        print(\"Woops!, That is not a Number\")\n",
    "    finally:\n",
    "        print(\"End of try/except/finally\")"
   ]
  },
  {
   "cell_type": "code",
   "execution_count": 26,
   "id": "3a6ca417",
   "metadata": {},
   "outputs": [
    {
     "name": "stdout",
     "output_type": "stream",
     "text": [
      "Please provide the number: f\n",
      "Woops!, That is not a Number\n",
      "End of try/except/finally\n"
     ]
    }
   ],
   "source": [
    "ask_for_int()"
   ]
  },
  {
   "cell_type": "code",
   "execution_count": null,
   "id": "65665ca9",
   "metadata": {},
   "outputs": [],
   "source": []
  },
  {
   "cell_type": "code",
   "execution_count": null,
   "id": "edd39a2d",
   "metadata": {},
   "outputs": [],
   "source": []
  },
  {
   "cell_type": "code",
   "execution_count": 3,
   "id": "11b7dbc6",
   "metadata": {},
   "outputs": [],
   "source": [
    "def ask_for_int():\n",
    "    \n",
    "    while True:\n",
    "        \n",
    "        try:\n",
    "            result = int(input(\"Please Providr the Number: \"))\n",
    "        except:\n",
    "            print(\"Woops! that us not Number\")\n",
    "            continue\n",
    "        else:\n",
    "            print(\"Thank You !!\")\n",
    "            break\n",
    "        finally:\n",
    "            print(\"End of try/except/Finally\")\n",
    "            print(\"I will always going to run\")"
   ]
  },
  {
   "cell_type": "code",
   "execution_count": 5,
   "id": "49d77353",
   "metadata": {},
   "outputs": [
    {
     "name": "stdout",
     "output_type": "stream",
     "text": [
      "Please Providr the Number: q\n",
      "Woops! that us not Number\n",
      "End of try/except/Finally\n",
      "I will always going to run\n",
      "Please Providr the Number: t\n",
      "Woops! that us not Number\n",
      "End of try/except/Finally\n",
      "I will always going to run\n",
      "Please Providr the Number: g\n",
      "Woops! that us not Number\n",
      "End of try/except/Finally\n",
      "I will always going to run\n",
      "Please Providr the Number: d\n",
      "Woops! that us not Number\n",
      "End of try/except/Finally\n",
      "I will always going to run\n",
      "Please Providr the Number: v\n",
      "Woops! that us not Number\n",
      "End of try/except/Finally\n",
      "I will always going to run\n",
      "Please Providr the Number: s\n",
      "Woops! that us not Number\n",
      "End of try/except/Finally\n",
      "I will always going to run\n",
      "Please Providr the Number: 3\n",
      "Thank You !!\n",
      "End of try/except/Finally\n",
      "I will always going to run\n"
     ]
    }
   ],
   "source": [
    "ask_for_int()"
   ]
  },
  {
   "cell_type": "code",
   "execution_count": null,
   "id": "0ef4b44d",
   "metadata": {},
   "outputs": [],
   "source": []
  }
 ],
 "metadata": {
  "kernelspec": {
   "display_name": "Python 3 (ipykernel)",
   "language": "python",
   "name": "python3"
  },
  "language_info": {
   "codemirror_mode": {
    "name": "ipython",
    "version": 3
   },
   "file_extension": ".py",
   "mimetype": "text/x-python",
   "name": "python",
   "nbconvert_exporter": "python",
   "pygments_lexer": "ipython3",
   "version": "3.10.9"
  }
 },
 "nbformat": 4,
 "nbformat_minor": 5
}
