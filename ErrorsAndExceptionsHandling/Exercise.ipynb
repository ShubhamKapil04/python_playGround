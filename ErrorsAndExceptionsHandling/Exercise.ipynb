{
 "cells": [
  {
   "cell_type": "code",
   "execution_count": 15,
   "id": "9c0f777a",
   "metadata": {},
   "outputs": [],
   "source": [
    "def ask_number():\n",
    "    while True:\n",
    "        try: \n",
    "            number = int(input(\"Provide the number: \"))\n",
    "        except:\n",
    "            print(\"Wops!! Provide a number\")\n",
    "            continue\n",
    "        else:\n",
    "            break\n",
    "    print(\"Your number Square is: \")\n",
    "    print(number ** 2)"
   ]
  },
  {
   "cell_type": "code",
   "execution_count": 16,
   "id": "1e7962a0",
   "metadata": {},
   "outputs": [
    {
     "name": "stdout",
     "output_type": "stream",
     "text": [
      "Provide the number: f\n",
      "Wops!! Provide a number\n",
      "Provide the number: g\n",
      "Wops!! Provide a number\n",
      "Provide the number: b\n",
      "Wops!! Provide a number\n",
      "Provide the number: G\n",
      "Wops!! Provide a number\n",
      "Provide the number: F\n",
      "Wops!! Provide a number\n",
      "Provide the number: D\n",
      "Wops!! Provide a number\n",
      "Provide the number: W\n",
      "Wops!! Provide a number\n",
      "Provide the number: W\n",
      "Wops!! Provide a number\n",
      "Provide the number: \n",
      "Wops!! Provide a number\n",
      "Provide the number: Q\n",
      "Wops!! Provide a number\n",
      "Provide the number: G\n",
      "Wops!! Provide a number\n",
      "Provide the number: 5\n",
      "Your number Square is: \n",
      "25\n"
     ]
    }
   ],
   "source": [
    "ask_number()"
   ]
  },
  {
   "cell_type": "code",
   "execution_count": null,
   "id": "d55be500",
   "metadata": {},
   "outputs": [],
   "source": []
  },
  {
   "cell_type": "code",
   "execution_count": null,
   "id": "be2b28f7",
   "metadata": {},
   "outputs": [],
   "source": []
  },
  {
   "cell_type": "code",
   "execution_count": null,
   "id": "79393981",
   "metadata": {},
   "outputs": [],
   "source": []
  },
  {
   "cell_type": "code",
   "execution_count": 7,
   "id": "aae1229a",
   "metadata": {},
   "outputs": [
    {
     "name": "stdout",
     "output_type": "stream",
     "text": [
      "Type Error\n"
     ]
    }
   ],
   "source": [
    "try:\n",
    "    for i in ['a', 'b', 'c']:\n",
    "        print(i**2)\n",
    "except TypeError:\n",
    "    print(\"Type Error\")\n",
    "    \n",
    "    "
   ]
  },
  {
   "cell_type": "code",
   "execution_count": null,
   "id": "11238f97",
   "metadata": {},
   "outputs": [],
   "source": []
  },
  {
   "cell_type": "code",
   "execution_count": null,
   "id": "3de5b8d5",
   "metadata": {},
   "outputs": [],
   "source": []
  },
  {
   "cell_type": "code",
   "execution_count": null,
   "id": "dc41bddd",
   "metadata": {},
   "outputs": [],
   "source": []
  },
  {
   "cell_type": "code",
   "execution_count": 12,
   "id": "012735d6",
   "metadata": {},
   "outputs": [
    {
     "name": "stdout",
     "output_type": "stream",
     "text": [
      "Error Division\n",
      "All done\n"
     ]
    }
   ],
   "source": [
    "\n",
    "try:\n",
    "    x = 5\n",
    "    y = 0\n",
    "    z = x/y\n",
    "except ZeroDivisionError:\n",
    "    print(\"Error Division\")\n",
    "finally:\n",
    "    print(\"All done\")"
   ]
  },
  {
   "cell_type": "code",
   "execution_count": null,
   "id": "6bf563b4",
   "metadata": {},
   "outputs": [],
   "source": []
  }
 ],
 "metadata": {
  "kernelspec": {
   "display_name": "Python 3 (ipykernel)",
   "language": "python",
   "name": "python3"
  },
  "language_info": {
   "codemirror_mode": {
    "name": "ipython",
    "version": 3
   },
   "file_extension": ".py",
   "mimetype": "text/x-python",
   "name": "python",
   "nbconvert_exporter": "python",
   "pygments_lexer": "ipython3",
   "version": "3.10.9"
  }
 },
 "nbformat": 4,
 "nbformat_minor": 5
}
