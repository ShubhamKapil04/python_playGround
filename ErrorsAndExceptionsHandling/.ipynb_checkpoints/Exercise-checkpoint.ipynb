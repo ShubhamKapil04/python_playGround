{
 "cells": [
  {
   "cell_type": "code",
   "execution_count": null,
   "id": "3bcc8944",
   "metadata": {},
   "outputs": [],
   "source": [
    "def ask_number():\n",
    "    while True:\n",
    "        try: \n",
    "            number = int(input(\"Provide the number: \"))\n",
    "            print(number ** 2)\n",
    "        except:\n",
    "            print(\"Wops!! Provide a number\")\n",
    "            continue\n",
    "        else:\n",
    "            print(\"Thank You!!\")\n",
    "            break"
   ]
  },
  {
   "cell_type": "code",
   "execution_count": null,
   "id": "10113e74",
   "metadata": {},
   "outputs": [],
   "source": []
  },
  {
   "cell_type": "code",
   "execution_count": null,
   "id": "c4fb18d2",
   "metadata": {},
   "outputs": [],
   "source": []
  },
  {
   "cell_type": "code",
   "execution_count": null,
   "id": "d6dc5979",
   "metadata": {},
   "outputs": [],
   "source": []
  }
 ],
 "metadata": {
  "kernelspec": {
   "display_name": "Python 3 (ipykernel)",
   "language": "python",
   "name": "python3"
  },
  "language_info": {
   "codemirror_mode": {
    "name": "ipython",
    "version": 3
   },
   "file_extension": ".py",
   "mimetype": "text/x-python",
   "name": "python",
   "nbconvert_exporter": "python",
   "pygments_lexer": "ipython3",
   "version": "3.10.9"
  }
 },
 "nbformat": 4,
 "nbformat_minor": 5
}
